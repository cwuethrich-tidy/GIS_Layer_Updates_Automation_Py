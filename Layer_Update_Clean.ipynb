{
 "cells": [
  {
   "cell_type": "markdown",
   "metadata": {},
   "source": [
    "# **LAYER UPDATE AUTOMATION**"
   ]
  },
  {
   "cell_type": "markdown",
   "metadata": {},
   "source": [
    "### IMPORT PACKAGES AND SET UP DIRECTORIES"
   ]
  },
  {
   "cell_type": "code",
   "execution_count": 1,
   "metadata": {},
   "outputs": [],
   "source": [
    "#IMPORT PACKAGES\n",
    "\n",
    "#for AGOL \n",
    "from arcgis.gis import GIS\n",
    "from arcgis.features import GeoAccessor, GeoSeriesAccessor, FeatureLayerCollection\n",
    "from arcgis.map import Map\n",
    "from IPython.display import display\n",
    "\n",
    "#for geoprocessing \n",
    "from arcgis.geoprocessing import import_toolbox\n",
    "import arcpy\n",
    "from arcpy.lr import *\n",
    "\n",
    "#for file/folder manipulation\n",
    "from pathlib import Path\n",
    "import zipfile\n",
    "from zipfile import ZipFile\n",
    "import os\n",
    "import glob\n",
    "import shutil \n",
    "from datetime import datetime\n",
    "import time\n",
    "\n",
    "#for downloading google sheets\n",
    "import requests\n",
    "import webbrowser"
   ]
  },
  {
   "cell_type": "markdown",
   "metadata": {},
   "source": [
    "### AGOL CREDENTIALS"
   ]
  },
  {
   "cell_type": "code",
   "execution_count": null,
   "metadata": {},
   "outputs": [],
   "source": [
    "#IMPORTANT \n",
    "#Fill in with your your username and password, url endpoint always the same within organization\n",
    "\n",
    "url  = \"YOUR ORGANIZATIONAL URL\"\n",
    "username = \"YOUR ORGANIZATIONAL USERNAME\""
   ]
  },
  {
   "cell_type": "markdown",
   "metadata": {},
   "source": [
    "### password"
   ]
  },
  {
   "cell_type": "code",
   "execution_count": null,
   "metadata": {},
   "outputs": [],
   "source": [
    "password = \"YOUR ORGANIZATIONAL PASSWORD\""
   ]
  },
  {
   "cell_type": "markdown",
   "metadata": {},
   "source": [
    "### SET UP FILE PATHING/DIRECTORIES"
   ]
  },
  {
   "cell_type": "code",
   "execution_count": null,
   "metadata": {
    "scrolled": true
   },
   "outputs": [],
   "source": [
    "#CREATE DIRECTORY \n",
    "\n",
    "#set file path\n",
    "path_str = r'YOUR FILE PATH HERE'\n",
    "data_path = Path(path_str)\n",
    "\n",
    "#make directory\n",
    "if not data_path.exists():\n",
    "    data_path.mkdir()"
   ]
  },
  {
   "cell_type": "code",
   "execution_count": null,
   "metadata": {},
   "outputs": [],
   "source": [
    "#SET UP DATE & TIME FOR VERSIONING\n",
    "\n",
    "#Get current date\n",
    "current_date = datetime.now()\n",
    "# Format the date as a string\n",
    "date = current_date.strftime(\"_%Y-%m-%d.%H.%M\") "
   ]
  },
  {
   "cell_type": "code",
   "execution_count": null,
   "metadata": {},
   "outputs": [],
   "source": [
    "#DELETE OLD FILES FROM DIRECTORY\n",
    "\n",
    "#If you'd like to keep each iteration comment out this code\n",
    "\n",
    "for filename in os.listdir(data_path):\n",
    "    filepath = os.path.join(data_path, filename)\n",
    "    try:\n",
    "        shutil.rmtree(filepath)\n",
    "    except OSError:\n",
    "        os.remove(filepath)"
   ]
  },
  {
   "cell_type": "code",
   "execution_count": null,
   "metadata": {},
   "outputs": [],
   "source": [
    "#CREATE NEW SUB-FOLDER FOR THIS ITERATION\n",
    "\n",
    "#format paths for sub folders\n",
    "data_folder = path_str + '\\\\' + 'Data' + date + '\\\\'\n",
    "data_folder_path = Path(data_folder)\n",
    "\n",
    "#create sub folders\n",
    "if not data_folder_path.exists():\n",
    "    data_folder_path.mkdir()"
   ]
  },
  {
   "cell_type": "markdown",
   "metadata": {},
   "source": [
    "### ACCESS AGOL AND DOWNLOAD FILES"
   ]
  },
  {
   "cell_type": "code",
   "execution_count": null,
   "metadata": {},
   "outputs": [],
   "source": [
    "#CONNECT TO AGOL\n",
    "gis = GIS(url, username, password)"
   ]
  },
  {
   "cell_type": "code",
   "execution_count": null,
   "metadata": {},
   "outputs": [],
   "source": [
    "#PULL ROUTE LAYER BY ID\n",
    "\n",
    "routes_id = 'ROUTE/REFERENCE LAYER ID'\n",
    "routes_dl = gis.content.get(routes_id)"
   ]
  },
  {
   "cell_type": "code",
   "execution_count": null,
   "metadata": {},
   "outputs": [],
   "source": [
    "#Download as ZIP \n",
    "\n",
    "result = routes_dl.export(routes_dl.title, 'Shapefile')\n",
    "if not data_folder_path.exists():\n",
    "    data_folder_path.mkdir()\n",
    "zip_path = data_folder_path.joinpath('Routes.zip')\n",
    "extract_path = data_folder_path.joinpath('Routes')\n",
    "routes_zip = result.download(save_path=data_folder_path)\n",
    "\n",
    "#delete duplicated routes shp in AGOL to save space\n",
    "result.delete()"
   ]
  },
  {
   "cell_type": "code",
   "execution_count": null,
   "metadata": {},
   "outputs": [],
   "source": [
    "#Extract ZIP as folder \n",
    "\n",
    "routes_data = data_folder + 'Routes' + '\\\\'\n",
    "routes_data_path = Path(routes_data)\n",
    "\n",
    "if not routes_data_path.exists():\n",
    "    routes_data_path.mkdir()\n",
    "zip_file = ZipFile(zip_path)\n",
    "zip_file.extractall(path=routes_data_path)"
   ]
  },
  {
   "cell_type": "code",
   "execution_count": null,
   "metadata": {},
   "outputs": [],
   "source": [
    "#DOWNLOAD CSV WITH WEBBROWSER\n",
    "\n",
    "## Create download link for new spreadsheet\n",
    "sheet_url = r\"FULL GOOGLE SHEET URL\"\n",
    "url_1 = sheet_url.replace(\"/edit?gid=0#gid=0\", \"/export?format=csv\")\n",
    "\n",
    "## Open link\n",
    "get_url= webbrowser.open(url_1)"
   ]
  },
  {
   "cell_type": "code",
   "execution_count": null,
   "metadata": {},
   "outputs": [],
   "source": [
    "#Wait 5 seconds to ensure csv is downloaded \n",
    "\n",
    "time.sleep(5)"
   ]
  },
  {
   "cell_type": "code",
   "execution_count": null,
   "metadata": {},
   "outputs": [],
   "source": [
    "chrome_folder = os.path.join(os.path.expanduser(\"~\"), \"Downloads\\Chrome\", \"*.csv\")\n",
    "\n",
    "csv_dl = max(glob.glob(chrome_folder), key=os.path.getctime)\n",
    "shutil.move(csv_dl, data_folder)"
   ]
  },
  {
   "cell_type": "code",
   "execution_count": null,
   "metadata": {},
   "outputs": [],
   "source": [
    "osow_csv = shutil.move(csv_dl_path, data_folder_path)"
   ]
  },
  {
   "cell_type": "markdown",
   "metadata": {},
   "source": [
    "### RUN GEOPROCESSING--MAKE ROUTE EVENT LAYER AND SAVE AS SHAPEFILE"
   ]
  },
  {
   "cell_type": "code",
   "execution_count": null,
   "metadata": {},
   "outputs": [],
   "source": [
    "#CREATE OBJECTS FOR SHAPEFILE AND CSV\n",
    "\n",
    "routes_obj_path = routes_data + 'Routes.shp'\n",
    "routes = routes_obj_path"
   ]
  },
  {
   "cell_type": "code",
   "execution_count": null,
   "metadata": {},
   "outputs": [],
   "source": [
    "# Set local variables\n",
    "rt = routes\n",
    "rid = \"ROUTE\" \n",
    "tbl = osow_csv\n",
    "props_line = \"ROUTE LINE BeginRefPoint EndRefPoint\"\n",
    "props_point = \"ROUTE POINT BeginRefPoint EndRefPoint\"\n",
    "lyr = \"LAYER NAME\" #layer name must match current online layer to update"
   ]
  },
  {
   "cell_type": "code",
   "execution_count": null,
   "metadata": {},
   "outputs": [],
   "source": [
    "# Run MakeRouteEventLayer \n",
    "arcpy.lr.MakeRouteEventLayer(rt, rid, tbl, props_line, lyr)"
   ]
  },
  {
   "cell_type": "markdown",
   "metadata": {},
   "source": [
    "### SAVE LAYER AS ZIP FILE"
   ]
  },
  {
   "cell_type": "code",
   "execution_count": null,
   "metadata": {},
   "outputs": [],
   "source": [
    "#Create folder to save .shp \n",
    "outFC_path = data_folder + 'LAYER NAME' #layer name must match current online layer to update\n",
    "outFC_folder = outFC_path + '\\\\'\n",
    "\n",
    "outFC_layer = Path(outFC_path)\n",
    "if not outFC_layer.exists():\n",
    "   outFC_layer.mkdir()"
   ]
  },
  {
   "cell_type": "code",
   "execution_count": null,
   "metadata": {
    "scrolled": true
   },
   "outputs": [],
   "source": [
    "#EXPORT FEATURE LAYER\n",
    "\n",
    "# Set local variables\n",
    "inFeatures = lyr\n",
    "outFeatureClass = outFC_folder + lyr\n",
    "\n",
    "#Run ExportFeatures\n",
    "co_osow_dl = arcpy.conversion.ExportFeatures(inFeatures, outFeatureClass)"
   ]
  },
  {
   "cell_type": "code",
   "execution_count": null,
   "metadata": {},
   "outputs": [],
   "source": [
    "#ZIP NEWLY CREATED SHAPEFILE \n",
    "\n",
    "#the following code creates a function to zip the file and exclude .lock files, which normally prevent zipping in an 'active' layer\n",
    "\n",
    "zipSuf = \".zip\"\n",
    "\n",
    "def zip_folder(folder_path, output_path, exclude_types):\n",
    "    with zipfile.ZipFile(output_path, 'w', zipfile.ZIP_DEFLATED) as zipf:\n",
    "        for root, dirs, files in os.walk(folder_path):\n",
    "            for file in files:\n",
    "                if not any(file.endswith(ext) for ext in exclude_types):\n",
    "                    file_path = os.path.join(root, file)\n",
    "                    zipf.write(file_path, os.path.relpath(file_path, folder_path))\n",
    "\n",
    "if __name__ == '__main__':\n",
    "    folder_path = outFC_layer\n",
    "    output_path = outFC_path + zipSuf\n",
    "    exclude_types = ['.lock']  # File types to exclude\n",
    "\n",
    "    zip_folder(folder_path, output_path, exclude_types)"
   ]
  },
  {
   "cell_type": "code",
   "execution_count": null,
   "metadata": {},
   "outputs": [],
   "source": [
    "#CREATE OBJECT FOR ZIP FILE FOR FEATURE LAYER UPDATE\n",
    "layer_zip = output_path"
   ]
  },
  {
   "cell_type": "markdown",
   "metadata": {},
   "source": [
    "### UPDATE FEATURE LAYER IN AGOL"
   ]
  },
  {
   "cell_type": "code",
   "execution_count": null,
   "metadata": {},
   "outputs": [],
   "source": [
    "#Access current layer in AGOL by ID \n",
    "\n",
    "update_id = 'ID OF LAYER TO UPDATE'\n",
    "old_layer = gis.content.get(update_id)"
   ]
  },
  {
   "cell_type": "code",
   "execution_count": null,
   "metadata": {},
   "outputs": [],
   "source": [
    "layer_collection = FeatureLayerCollection.fromitem(old_layer)"
   ]
  },
  {
   "cell_type": "code",
   "execution_count": null,
   "metadata": {},
   "outputs": [],
   "source": [
    "layer_collection.properties.layers[0].name"
   ]
  },
  {
   "cell_type": "code",
   "execution_count": null,
   "metadata": {},
   "outputs": [],
   "source": [
    "layer_collection.manager.overwrite(os.path.join('data', 'updating_gis_content',\n",
    "                               'updated_osow', osow_zip))"
   ]
  },
  {
   "cell_type": "markdown",
   "metadata": {},
   "source": [
    "### PUBLISH LAYER TO AGOL"
   ]
  },
  {
   "cell_type": "code",
   "execution_count": null,
   "metadata": {},
   "outputs": [],
   "source": [
    "#newshp = gis.content.add({}, osow_zip)\n",
    "#NAME = newshp.publish()"
   ]
  }
 ],
 "metadata": {
  "kernelspec": {
   "display_name": "Python 3 (ipykernel)",
   "language": "python",
   "name": "python3"
  },
  "language_info": {
   "codemirror_mode": {
    "name": "ipython",
    "version": 3
   },
   "file_extension": ".py",
   "mimetype": "text/x-python",
   "name": "python",
   "nbconvert_exporter": "python",
   "pygments_lexer": "ipython3",
   "version": "3.11.10"
  }
 },
 "nbformat": 4,
 "nbformat_minor": 4
}
